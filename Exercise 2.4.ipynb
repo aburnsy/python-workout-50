{
 "cells": [
  {
   "cell_type": "code",
   "execution_count": 1,
   "id": "12d841a5-efa4-4da2-ac0a-436b9359abc5",
   "metadata": {},
   "outputs": [
    {
     "name": "stdin",
     "output_type": "stream",
     "text": [
      "Input a word soap\n"
     ]
    },
    {
     "name": "stdout",
     "output_type": "stream",
     "text": [
      "suboubap\n"
     ]
    }
   ],
   "source": [
    "word = input(\"Input a word\")\n",
    "array = []\n",
    "for letter in word:\n",
    "    if letter in ['a','e','i','o','u']:\n",
    "        array.append('ub')\n",
    "    array.append(letter)\n",
    "print(''.join(array))"
   ]
  },
  {
   "cell_type": "code",
   "execution_count": null,
   "id": "61c32dcd-5d58-4f75-8a76-0d75d9b0e15f",
   "metadata": {},
   "outputs": [],
   "source": []
  }
 ],
 "metadata": {
  "kernelspec": {
   "display_name": "Python 3 (ipykernel)",
   "language": "python",
   "name": "python3"
  },
  "language_info": {
   "codemirror_mode": {
    "name": "ipython",
    "version": 3
   },
   "file_extension": ".py",
   "mimetype": "text/x-python",
   "name": "python",
   "nbconvert_exporter": "python",
   "pygments_lexer": "ipython3",
   "version": "3.13.0"
  }
 },
 "nbformat": 4,
 "nbformat_minor": 5
}
