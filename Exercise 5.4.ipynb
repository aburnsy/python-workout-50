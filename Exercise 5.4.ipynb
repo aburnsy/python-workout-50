{
 "cells": [
  {
   "cell_type": "code",
   "execution_count": 8,
   "id": "a63a5fb6-3e81-41a0-a9be-139384839acd",
   "metadata": {},
   "outputs": [
    {
     "name": "stdout",
     "output_type": "stream",
     "text": [
      "self-referential.\n"
     ]
    }
   ],
   "source": [
    "filename = \"D:\\\\Development\\\\pythonworkout\\\\temp\\\\wcfile.txt\"\n",
    "\n",
    "with open(filename) as f:\n",
    "    print(max(f.read().split(), key=len))"
   ]
  },
  {
   "cell_type": "code",
   "execution_count": 1,
   "id": "df8885b8-9c1d-46ab-a2cc-42331b6d6830",
   "metadata": {},
   "outputs": [
    {
     "name": "stdout",
     "output_type": "stream",
     "text": [
      "{'passwd.txt': '_launchservicesd:*:239:239::0:0:_launchservicesd:/var/empty:/usr/bin/false', 'wcfile.txt': 'self-referential.'}\n"
     ]
    }
   ],
   "source": [
    "import os\n",
    "foldername = \"D:\\\\Development\\\\pythonworkout\\\\temp\"\n",
    "\n",
    "def find_longest_word(file: str) -> str:\n",
    "    longest = ''\n",
    "    with open(file) as f:\n",
    "        for line in f:\n",
    "            for word in line.split():\n",
    "                if len(word) > len(longest):\n",
    "                    longest = word\n",
    "\n",
    "    return longest\n",
    "\n",
    "result = {filename: find_longest_word(os.path.join(foldername, filename)) for filename in os.listdir(foldername)}\n",
    "print(result)"
   ]
  },
  {
   "cell_type": "code",
   "execution_count": 19,
   "id": "0cf9ffeb-31b7-473b-8106-a552f981eeff",
   "metadata": {},
   "outputs": [
    {
     "name": "stdout",
     "output_type": "stream",
     "text": [
      "{'passwd.txt': 'be7074ab59e26d7d3a416cecc0b3a3ee', 'wcfile.txt': 'e986333f4328e7434b0b4722cd7941a5'}\n"
     ]
    }
   ],
   "source": [
    "foldername = \"D:\\\\Development\\\\pythonworkout\\\\temp\"\n",
    "from hashlib import md5\n",
    "for filename in os.listdir(foldername):\n",
    "    # print(open(os.path.join(foldername, filename)).readlines())\n",
    "    pass\n",
    "result = {filename: md5(open(os.path.join(foldername, filename)).read().encode()).hexdigest() for filename in os.listdir(foldername)}\n",
    "print(result)\n"
   ]
  },
  {
   "cell_type": "code",
   "execution_count": 33,
   "id": "4509f850-96fa-4490-b018-6f81e77ade9f",
   "metadata": {},
   "outputs": [
    {
     "name": "stdout",
     "output_type": "stream",
     "text": [
      "files               :['passwd.txt', 'wcfile.txt']\n",
      "modified_timestamp  :2025-02-11 16:27\n"
     ]
    }
   ],
   "source": [
    "import os\n",
    "from datetime import datetime, timezone\n",
    "foldername = \"D:\\\\Development\\\\pythonworkout\\\\temp\"\n",
    "results = {\n",
    "    \"files\": os.listdir(foldername),\n",
    "    \"modified_timestamp\": datetime.fromtimestamp(os.stat(foldername).st_mtime).strftime('%Y-%m-%d %H:%M')\n",
    "}\n",
    "for k,v in results.items():\n",
    "    print(f\"{k:20}:{v}\")"
   ]
  },
  {
   "cell_type": "code",
   "execution_count": 60,
   "id": "f10a62b3-d6fd-4603-9e15-1a0e99e3c5c8",
   "metadata": {},
   "outputs": [
    {
     "name": "stdout",
     "output_type": "stream",
     "text": [
      "200: 193\n",
      "302:   6\n",
      "304:   5\n",
      "404:   2\n"
     ]
    }
   ],
   "source": [
    "from collections import Counter\n",
    "filename = \"D:\\\\Development\\\\pythonworkout\\\\temp\\\\mini-access-log.txt\"\n",
    "with open(filename) as f:\n",
    "    response_codes = [int(line.split()[8]) for line in f.readlines()]\n",
    "for k,v in Counter(response_codes).items():\n",
    "    print(f\"{k}: {v:3}\")\n",
    "    "
   ]
  }
 ],
 "metadata": {
  "kernelspec": {
   "display_name": "Python 3 (ipykernel)",
   "language": "python",
   "name": "python3"
  },
  "language_info": {
   "codemirror_mode": {
    "name": "ipython",
    "version": 3
   },
   "file_extension": ".py",
   "mimetype": "text/x-python",
   "name": "python",
   "nbconvert_exporter": "python",
   "pygments_lexer": "ipython3",
   "version": "3.13.0"
  }
 },
 "nbformat": 4,
 "nbformat_minor": 5
}
