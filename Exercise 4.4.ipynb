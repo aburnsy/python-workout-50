{
 "cells": [
  {
   "cell_type": "code",
   "execution_count": 19,
   "id": "f860e06a-8898-4154-a580-191e0b4d2527",
   "metadata": {},
   "outputs": [
    {
     "name": "stdin",
     "output_type": "stream",
     "text": [
      "Input a city name: NY\n",
      "Enter rainfall in mm: 1\n",
      "Input a city name: NY\n",
      "Enter rainfall in mm: 2\n",
      "Input a city name: NY\n",
      "Enter rainfall in mm: 23\n",
      "Input a city name: \n"
     ]
    },
    {
     "name": "stdout",
     "output_type": "stream",
     "text": [
      "NY: 26\n"
     ]
    }
   ],
   "source": [
    "\n",
    "rainfall = {}\n",
    "while (city_name:= input(\"Input a city name:\")):\n",
    "    rainfall[city_name] = int(input(\"Enter rainfall in mm:\")) + rainfall.get(city_name,0)\n",
    "for city, rain in rainfall.items():\n",
    "    print(f\"{city}: {rain}\")"
   ]
  }
 ],
 "metadata": {
  "kernelspec": {
   "display_name": "Python 3 (ipykernel)",
   "language": "python",
   "name": "python3"
  },
  "language_info": {
   "codemirror_mode": {
    "name": "ipython",
    "version": 3
   },
   "file_extension": ".py",
   "mimetype": "text/x-python",
   "name": "python",
   "nbconvert_exporter": "python",
   "pygments_lexer": "ipython3",
   "version": "3.13.0"
  }
 },
 "nbformat": 4,
 "nbformat_minor": 5
}
