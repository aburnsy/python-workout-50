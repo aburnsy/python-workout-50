{
 "cells": [
  {
   "cell_type": "code",
   "execution_count": 6,
   "id": "9c28b123-0602-4766-87ad-f4ab70f93fba",
   "metadata": {},
   "outputs": [
    {
     "name": "stdout",
     "output_type": "stream",
     "text": [
      "<foo a=\"1\" b=\"2\" c=\"2\">bar</foo>\n"
     ]
    }
   ],
   "source": [
    "\n",
    "def myxml(tagname: str, content='', **kwargs) -> str:\n",
    "    attrs = ''.join([f' {k}=\"{v}\"' for k,v in kwargs.items()])\n",
    "    return f\"<{tagname}{attrs}>{content}</{tagname}>\"\n",
    "\n",
    "print(myxml('foo','bar', a=1, b=2, c=2))"
   ]
  },
  {
   "cell_type": "code",
   "execution_count": null,
   "id": "9c010d67-481a-4520-907e-2053bcaf8dc7",
   "metadata": {},
   "outputs": [],
   "source": [
    "\n",
    "def copyfile(input_file: str, *args):\n",
    "    # test input_file to ensure it exists\n",
    "    \n",
    "    for arg in args:\n",
    "        pass\n",
    "        # copy file out to location"
   ]
  },
  {
   "cell_type": "code",
   "execution_count": 13,
   "id": "9bae96cd-f7d4-46f9-a6aa-922d1b7f7a0c",
   "metadata": {},
   "outputs": [
    {
     "name": "stdout",
     "output_type": "stream",
     "text": [
      "24\n",
      "None\n"
     ]
    }
   ],
   "source": [
    "from functools import reduce\n",
    "def factorial(*args):\n",
    "    if args:\n",
    "        return reduce(lambda x, y: x * y , args)\n",
    "    \n",
    "print(factorial(1,2,3,4))\n",
    "print(factorial())"
   ]
  },
  {
   "cell_type": "code",
   "execution_count": 18,
   "id": "dc1635ea-70dc-46a4-a416-6ebbc4846919",
   "metadata": {},
   "outputs": [
    {
     "name": "stdout",
     "output_type": "stream",
     "text": [
      "1 2 3\n",
      "a**b**c\n"
     ]
    }
   ],
   "source": [
    "from collections.abc import Sequence\n",
    "def anyjoin(seq: Sequence, glue=' ') -> str:\n",
    "    return glue.join([str(v) for v in seq])\n",
    "\n",
    "print(anyjoin([1,2,3]))\n",
    "print(anyjoin('abc','**'))"
   ]
  }
 ],
 "metadata": {
  "kernelspec": {
   "display_name": "Python 3 (ipykernel)",
   "language": "python",
   "name": "python3"
  },
  "language_info": {
   "codemirror_mode": {
    "name": "ipython",
    "version": 3
   },
   "file_extension": ".py",
   "mimetype": "text/x-python",
   "name": "python",
   "nbconvert_exporter": "python",
   "pygments_lexer": "ipython3",
   "version": "3.13.0"
  }
 },
 "nbformat": 4,
 "nbformat_minor": 5
}
