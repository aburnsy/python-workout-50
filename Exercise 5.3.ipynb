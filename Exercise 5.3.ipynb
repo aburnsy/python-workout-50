{
 "cells": [
  {
   "cell_type": "code",
   "execution_count": 14,
   "id": "a63a5fb6-3e81-41a0-a9be-139384839acd",
   "metadata": {},
   "outputs": [
    {
     "name": "stdout",
     "output_type": "stream",
     "text": [
      "characters - 165\n",
      "words      - 28\n",
      "lines      - 11\n",
      "distinct   - 20\n"
     ]
    },
    {
     "data": {
      "text/plain": [
       "'This is a test file.\\n\\nIt contains 28 words and 20 different words.\\n\\nIt also contains 165 characters.\\n\\nIt also contains 11 lines.\\n\\nIt is also self-referential.\\n\\nWow!\\n'"
      ]
     },
     "execution_count": 14,
     "metadata": {},
     "output_type": "execute_result"
    }
   ],
   "source": [
    "filename = \"D:\\\\Development\\\\pythonworkout\\\\temp\\\\wcfile.txt\"\n",
    "\n",
    "with open(filename) as f:\n",
    "    input_file = f.read()\n",
    "\n",
    "counts = {}\n",
    "counts['characters'] = len(input_file)\n",
    "counts['words'] = len(input_file.split())\n",
    "counts['lines'] = input_file.count('\\n')\n",
    "counts['distinct'] = len(set(input_file.split()))\n",
    "\n",
    "for k, v in counts.items():\n",
    "    print(f\"{k:10} - {v}\")\n",
    "input_file"
   ]
  },
  {
   "cell_type": "code",
   "execution_count": 25,
   "id": "21f89636-cb69-4df6-b039-bd06d6a77a3c",
   "metadata": {},
   "outputs": [
    {
     "name": "stdout",
     "output_type": "stream",
     "text": [
      "characters - 165\n",
      "words      - 28\n",
      "lines      - 11\n",
      "distinct   - 20\n"
     ]
    }
   ],
   "source": [
    "counts = {'characters': 0, 'words': 0, 'lines': 0}\n",
    "unique_words = set()\n",
    "\n",
    "with open(filename) as f:\n",
    "    for line in f:\n",
    "        words = line.split()\n",
    "        unique_words.update(words)\n",
    "        counts['words'] += len(words)\n",
    "        counts['characters'] += len(line)\n",
    "        counts['lines'] += 1\n",
    "counts['distinct'] = len(unique_words)\n",
    "\n",
    "for k, v in counts.items():\n",
    "    print(f\"{k:10} - {v}\")        "
   ]
  }
 ],
 "metadata": {
  "kernelspec": {
   "display_name": "Python 3 (ipykernel)",
   "language": "python",
   "name": "python3"
  },
  "language_info": {
   "codemirror_mode": {
    "name": "ipython",
    "version": 3
   },
   "file_extension": ".py",
   "mimetype": "text/x-python",
   "name": "python",
   "nbconvert_exporter": "python",
   "pygments_lexer": "ipython3",
   "version": "3.13.0"
  }
 },
 "nbformat": 4,
 "nbformat_minor": 5
}
