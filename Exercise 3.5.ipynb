{
 "cells": [
  {
   "cell_type": "code",
   "execution_count": 33,
   "id": "5cf13047-1559-48e7-9e40-e50df66531ba",
   "metadata": {},
   "outputs": [
    {
     "data": {
      "text/plain": [
       "'test'"
      ]
     },
     "execution_count": 33,
     "metadata": {},
     "output_type": "execute_result"
    }
   ],
   "source": [
    "from operator import itemgetter\n",
    "from collections import Counter\n",
    "def most_repeating_word(seq: list[str]) -> str:\n",
    "    return max([[word, Counter(word).most_common(1)[0][1]] for word in seq],key=itemgetter(1))[0]\n",
    "    counters = [[word, Counter(word).most_common(1)[0][1]] for word in seq]\n",
    "    # result = max(counters.items(), key=itemgetter(1))[0]\n",
    "    counters.sort(key=itemgetter(1), reverse=True)\n",
    "    print(counters[0][0])\n",
    "    return counters[0][0]\n",
    "    \n",
    "\n",
    "most_repeating_word(['this','is','a','test','program'])"
   ]
  },
  {
   "cell_type": "code",
   "execution_count": 23,
   "id": "bddc02e8-15e9-4668-a5aa-5e93237bc4b4",
   "metadata": {},
   "outputs": [
    {
     "name": "stdout",
     "output_type": "stream",
     "text": [
      "test\n"
     ]
    },
    {
     "data": {
      "text/plain": [
       "'test'"
      ]
     },
     "execution_count": 23,
     "metadata": {},
     "output_type": "execute_result"
    }
   ],
   "source": [
    "from operator import itemgetter\n",
    "from collections import Counter\n",
    "def most_repeating_word(seq: list[str]) -> str:\n",
    "    counters = {word: Counter(word).most_common(1)[0][1] for word in seq}\n",
    "    result = max(counters.items(), key=itemgetter(1))[\n",
    "    print(result)\n",
    "    return result\n",
    "most_repeating_word(['this','is','a','test','program']) "
   ]
  },
  {
   "cell_type": "code",
   "execution_count": null,
   "id": "ef96fa4b-edc4-4103-b50b-096736cc864c",
   "metadata": {},
   "outputs": [],
   "source": [
    "\n",
    "\n",
    "def most_repeating_vowels(seq: list[str]) -> str:\n",
    "    counters = [[word\n",
    "\n",
    "most_repeating_vowels(['this','is','a','test','program'])"
   ]
  }
 ],
 "metadata": {
  "kernelspec": {
   "display_name": "Python 3 (ipykernel)",
   "language": "python",
   "name": "python3"
  },
  "language_info": {
   "codemirror_mode": {
    "name": "ipython",
    "version": 3
   },
   "file_extension": ".py",
   "mimetype": "text/x-python",
   "name": "python",
   "nbconvert_exporter": "python",
   "pygments_lexer": "ipython3",
   "version": "3.13.0"
  }
 },
 "nbformat": 4,
 "nbformat_minor": 5
}
