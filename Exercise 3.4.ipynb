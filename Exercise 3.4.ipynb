{
 "cells": [
  {
   "cell_type": "code",
   "execution_count": 7,
   "id": "5cf13047-1559-48e7-9e40-e50df66531ba",
   "metadata": {},
   "outputs": [
    {
     "name": "stdout",
     "output_type": "stream",
     "text": [
      "Lerner, Reuven: rv@b.com\n",
      "Putin, Vlad: vlad@b.com\n",
      "Trump, Donald: trump@b.com\n"
     ]
    }
   ],
   "source": [
    "phonebook = [\n",
    "    {'first':'Reuven','last':'Lerner','email':'rv@b.com'},\n",
    "    {'first':'Donald','last':'Trump','email':'trump@b.com'},\n",
    "    {'first':'Vlad','last':'Putin','email':'vlad@b.com'}\n",
    "]\n",
    "\n",
    "for entry in sorted(phonebook, key=lambda x: [x['last'], x['first']]):\n",
    "    print(f\"{entry['last']}, {entry['first']}: {entry['email']}\")"
   ]
  },
  {
   "cell_type": "code",
   "execution_count": 10,
   "id": "bddc02e8-15e9-4668-a5aa-5e93237bc4b4",
   "metadata": {},
   "outputs": [
    {
     "name": "stdout",
     "output_type": "stream",
     "text": [
      "Lerner, Reuven: rv@b.com\n",
      "Putin, Vlad: vlad@b.com\n",
      "Trump, Donald: trump@b.com\n"
     ]
    }
   ],
   "source": [
    "from operator import itemgetter\n",
    "for entry in sorted(phonebook, key=itemgetter('last','first')):\n",
    "    print(f\"{entry['last']}, {entry['first']}: {entry['email']}\")"
   ]
  },
  {
   "cell_type": "code",
   "execution_count": null,
   "id": "ba264708-a781-4b00-991a-adb6dbef91bc",
   "metadata": {},
   "outputs": [],
   "source": []
  }
 ],
 "metadata": {
  "kernelspec": {
   "display_name": "Python 3 (ipykernel)",
   "language": "python",
   "name": "python3"
  },
  "language_info": {
   "codemirror_mode": {
    "name": "ipython",
    "version": 3
   },
   "file_extension": ".py",
   "mimetype": "text/x-python",
   "name": "python",
   "nbconvert_exporter": "python",
   "pygments_lexer": "ipython3",
   "version": "3.13.0"
  }
 },
 "nbformat": 4,
 "nbformat_minor": 5
}
