{
 "cells": [
  {
   "cell_type": "code",
   "execution_count": 8,
   "id": "9035eaa4-9e5b-4dee-aa11-41df4c6acd9c",
   "metadata": {},
   "outputs": [
    {
     "data": {
      "text/plain": [
       "'abcdef'"
      ]
     },
     "execution_count": 8,
     "metadata": {},
     "output_type": "execute_result"
    }
   ],
   "source": [
    "\n",
    "\n",
    "def mysum(*args):\n",
    "    if not args:\n",
    "        return args\n",
    "    result = args[0]\n",
    "    for arg in args[1:]:\n",
    "        result += arg\n",
    "    return result\n",
    "\n",
    "mysum('abc','def')"
   ]
  },
  {
   "cell_type": "code",
   "execution_count": 5,
   "id": "1e777faa-a933-4cde-afeb-2ccfb2e7c7c6",
   "metadata": {},
   "outputs": [
    {
     "data": {
      "text/plain": [
       "'abc'"
      ]
     },
     "execution_count": 5,
     "metadata": {},
     "output_type": "execute_result"
    }
   ],
   "source": [
    "mysum('abc')\n"
   ]
  },
  {
   "cell_type": "code",
   "execution_count": 6,
   "id": "941fa5c9-4c02-40a0-9337-efb3369b40ac",
   "metadata": {},
   "outputs": [
    {
     "data": {
      "text/plain": [
       "[1, 2, 3, 4, 5, 6]"
      ]
     },
     "execution_count": 6,
     "metadata": {},
     "output_type": "execute_result"
    }
   ],
   "source": [
    "mysum([1,2,3],[4,5,6])"
   ]
  },
  {
   "cell_type": "code",
   "execution_count": 7,
   "id": "8e47011c-9769-4dc2-bed1-54e881bf11f1",
   "metadata": {},
   "outputs": [
    {
     "data": {
      "text/plain": [
       "6"
      ]
     },
     "execution_count": 7,
     "metadata": {},
     "output_type": "execute_result"
    }
   ],
   "source": [
    "mysum(1,2,3)"
   ]
  },
  {
   "cell_type": "code",
   "execution_count": null,
   "id": "9476f304-f809-41fd-ab76-2ce2c3753eae",
   "metadata": {},
   "outputs": [],
   "source": []
  }
 ],
 "metadata": {
  "kernelspec": {
   "display_name": "Python 3 (ipykernel)",
   "language": "python",
   "name": "python3"
  },
  "language_info": {
   "codemirror_mode": {
    "name": "ipython",
    "version": 3
   },
   "file_extension": ".py",
   "mimetype": "text/x-python",
   "name": "python",
   "nbconvert_exporter": "python",
   "pygments_lexer": "ipython3",
   "version": "3.13.0"
  }
 },
 "nbformat": 4,
 "nbformat_minor": 5
}
