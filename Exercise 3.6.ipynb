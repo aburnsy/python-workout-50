{
 "cells": [
  {
   "cell_type": "code",
   "execution_count": 24,
   "id": "5cf13047-1559-48e7-9e40-e50df66531ba",
   "metadata": {},
   "outputs": [
    {
     "name": "stdout",
     "output_type": "stream",
     "text": [
      "('Putin', 'Vlad')\n",
      "Putin      Vlad        3.63\n",
      "('Trump', 'Donald')\n",
      "Trump      Donald      7.85\n",
      "('Xi', 'Jinping')\n",
      "Xi         Jinping    10.60\n"
     ]
    }
   ],
   "source": [
    "from operator import itemgetter\n",
    "people = [\n",
    "    ('Jinping','Xi',10.603),\n",
    "    ('Donald','Trump',7.85),\n",
    "    ('Vlad','Putin',3.626)\n",
    "]\n",
    "for person in sorted(people, key=itemgetter(1,0)):\n",
    "    a = itemgetter(1,0)(person)\n",
    "    \n",
    "    print(a)\n",
    "    print(f\"{person[1]:10} {person[0]:10} {person[2]:5.2f}\")"
   ]
  },
  {
   "cell_type": "code",
   "execution_count": 13,
   "id": "da10b71e-7c55-4cf3-8f6a-8b5df190a394",
   "metadata": {},
   "outputs": [
    {
     "name": "stdout",
     "output_type": "stream",
     "text": [
      "Putin      Vlad        3.63\n",
      "Trump      Donald      7.85\n",
      "Xi         Jinping    10.60\n"
     ]
    }
   ],
   "source": [
    "for person in sorted(people, key=itemgetter(1,0)):\n",
    "    print(\"{1:10} {0:10} {2:5.2f}\".format(*person))"
   ]
  }
 ],
 "metadata": {
  "kernelspec": {
   "display_name": "Python 3 (ipykernel)",
   "language": "python",
   "name": "python3"
  },
  "language_info": {
   "codemirror_mode": {
    "name": "ipython",
    "version": 3
   },
   "file_extension": ".py",
   "mimetype": "text/x-python",
   "name": "python",
   "nbconvert_exporter": "python",
   "pygments_lexer": "ipython3",
   "version": "3.13.0"
  }
 },
 "nbformat": 4,
 "nbformat_minor": 5
}
