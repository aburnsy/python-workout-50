{
 "cells": [
  {
   "cell_type": "code",
   "execution_count": 17,
   "id": "b724ca78-7faa-4e64-b433-3f524c2e3a17",
   "metadata": {},
   "outputs": [
    {
     "name": "stdout",
     "output_type": "stream",
     "text": [
      "['_launchservicesd', '*', '239', '239', '', '0', '0', '_launchservicesd', '/var/empty', '/usr/bin/false']\n"
     ]
    }
   ],
   "source": [
    "import csv\n",
    "with open(\"D:\\\\Development\\\\pythonworkout\\\\temp\\\\passwd.txt\") as r, open(\"D:\\\\Development\\\\pythonworkout\\\\temp\\\\passwd_summary.csv\",\"w\", newline='') as w:\n",
    "    input_f = csv.reader(r, delimiter=\":\")\n",
    "    output_f= csv.writer(w, delimiter='\\t')\n",
    "    for line in input_f:\n",
    "        if len(line)>1:\n",
    "            output_f.writerow([line[0],line[2]])\n",
    "\n",
    "print(line.__str__())"
   ]
  }
 ],
 "metadata": {
  "kernelspec": {
   "display_name": "Python 3 (ipykernel)",
   "language": "python",
   "name": "python3"
  },
  "language_info": {
   "codemirror_mode": {
    "name": "ipython",
    "version": 3
   },
   "file_extension": ".py",
   "mimetype": "text/x-python",
   "name": "python",
   "nbconvert_exporter": "python",
   "pygments_lexer": "ipython3",
   "version": "3.13.0"
  }
 },
 "nbformat": 4,
 "nbformat_minor": 5
}
