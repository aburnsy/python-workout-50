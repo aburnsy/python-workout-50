{
 "cells": [
  {
   "cell_type": "code",
   "execution_count": 26,
   "id": "3acfafd1-1d2d-4588-9e00-fd48b44ab2f6",
   "metadata": {},
   "outputs": [
    {
     "name": "stdout",
     "output_type": "stream",
     "text": [
      "{}\n",
      "{'c': [3, 4]}\n"
     ]
    }
   ],
   "source": [
    "\n",
    "\n",
    "def dictdiff(a: dict, b: dict) -> dict:\n",
    "    return {key: [a.get(key), b.get(key)] for key in set([*a.keys(), *b.keys()]) if a.get(key) != b.get(key) }\n",
    "\n",
    "d1 = {'a':1, 'b':2, 'c':3}\n",
    "d2 = {'a':1, 'b':2, 'c':4}\n",
    "\n",
    "print(dictdiff(d1, d1))\n",
    "print(dictdiff(d1, d2))"
   ]
  },
  {
   "cell_type": "code",
   "execution_count": 27,
   "id": "a3d85d85-8606-4e65-8367-42bf01bf839c",
   "metadata": {},
   "outputs": [
    {
     "name": "stdout",
     "output_type": "stream",
     "text": [
      "{'d': [3, None], 'c': [None, 4]}\n"
     ]
    }
   ],
   "source": [
    "d3 = {'a':1, 'b':2, 'd':3}\n",
    "d4 = {'a':1, 'b':2, 'c':4}\n",
    "print(dictdiff(d3, d4))"
   ]
  },
  {
   "cell_type": "code",
   "execution_count": 29,
   "id": "689ceb60-9304-438d-ac03-2d6f80898789",
   "metadata": {},
   "outputs": [
    {
     "name": "stdout",
     "output_type": "stream",
     "text": [
      "{'d': [None, 4], 'c': [3, None]}\n"
     ]
    }
   ],
   "source": [
    "d5 = {'a':1, 'b':2, 'd':4}\n",
    "print(dictdiff(d1, d5))\n"
   ]
  },
  {
   "cell_type": "code",
   "execution_count": 31,
   "id": "4b9b648b-d876-4e52-9800-0609a137abd1",
   "metadata": {},
   "outputs": [
    {
     "name": "stdout",
     "output_type": "stream",
     "text": [
      "{'d': [None, 4], 'c': [3, None]}\n"
     ]
    }
   ],
   "source": [
    "def dictdiff(a: dict, b: dict) -> dict:\n",
    "    return {key: [a.get(key), b.get(key)] for key in set(a.keys()) | set(b.keys()) if a.get(key) != b.get(key) }\n",
    "d5 = {'a':1, 'b':2, 'd':4}\n",
    "print(dictdiff(d1, d5))\n"
   ]
  },
  {
   "cell_type": "code",
   "execution_count": 36,
   "id": "205c52d3-45ee-433a-be01-3ae92baa7974",
   "metadata": {},
   "outputs": [
    {
     "name": "stdout",
     "output_type": "stream",
     "text": [
      "{'a': 2, 'b': 5, 'd': 3, 'c': 4, 'e': 4}\n"
     ]
    }
   ],
   "source": [
    "def dictupdate(*args) -> dict:\n",
    "    result = args[0]\n",
    "    for arg in args[1:]:\n",
    "        result.update(arg)\n",
    "    return result\n",
    "\n",
    "d3 = {'a':1, 'b':2, 'd':3}\n",
    "d4 = {'a':1, 'b':3, 'c':4}\n",
    "d5 = {'a':2, 'b':5, 'e':4}\n",
    "print(dictupdate(d3, d4, d5))"
   ]
  }
 ],
 "metadata": {
  "kernelspec": {
   "display_name": "Python 3 (ipykernel)",
   "language": "python",
   "name": "python3"
  },
  "language_info": {
   "codemirror_mode": {
    "name": "ipython",
    "version": 3
   },
   "file_extension": ".py",
   "mimetype": "text/x-python",
   "name": "python",
   "nbconvert_exporter": "python",
   "pygments_lexer": "ipython3",
   "version": "3.13.0"
  }
 },
 "nbformat": 4,
 "nbformat_minor": 5
}
