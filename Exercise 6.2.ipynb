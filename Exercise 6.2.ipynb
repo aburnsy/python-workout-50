{
 "cells": [
  {
   "cell_type": "code",
   "execution_count": 13,
   "id": "26f82b6e-5d67-4cc4-a16b-53f37c16d012",
   "metadata": {},
   "outputs": [
    {
     "name": "stdout",
     "output_type": "stream",
     "text": [
      "122\n",
      "19683\n"
     ]
    }
   ],
   "source": [
    "import operator\n",
    "from functools import reduce\n",
    "def pn_calculator(calculation: str) -> int:\n",
    "    operations = {\n",
    "        '+': operator.add,\n",
    "        '-': operator.sub,\n",
    "        '*': operator.mul,\n",
    "        '/': operator.truediv,\n",
    "        '**': operator.pow,\n",
    "        '%': operator.mod\n",
    "    }\n",
    "    op, *vals = calculation.split()\n",
    "\n",
    "    return reduce(operations[op],[int(v) for v in vals])\n",
    "\n",
    "print(pn_calculator('+ 18 3 2 99'))\n",
    "print(pn_calculator('** 3 3 3'))\n"
   ]
  },
  {
   "cell_type": "code",
   "execution_count": 19,
   "id": "8bf0abd1-f6d4-4f41-be69-6a2f3822422b",
   "metadata": {},
   "outputs": [
    {
     "name": "stdout",
     "output_type": "stream",
     "text": [
      "[2, 4, 6, 134]\n",
      "aabbcc\n"
     ]
    }
   ],
   "source": [
    "from collections.abc import Callable, Sequence\n",
    "\n",
    "def times_2(a:int) -> int:\n",
    "    return 2*a\n",
    "\n",
    "def apply_to_each(fn: Callable, seq: Sequence) -> Sequence:\n",
    "    return map(fn, seq)\n",
    "\n",
    "print(list(apply_to_each(times_2, [1,2,3,67])))\n",
    "print(''.join(apply_to_each(times_2, 'abc')))\n"
   ]
  },
  {
   "cell_type": "code",
   "execution_count": 23,
   "id": "f45429de-0d9d-4ce3-b171-6a5c00356495",
   "metadata": {},
   "outputs": [],
   "source": [
    "from collections.abc import Callable\n",
    "\n",
    "def add_andy_to_line(s: str) -> str:\n",
    "    return f\"andy says: {s}\"\n",
    "\n",
    "def transform_lines(fn: Callable, input_file: str, output_file: str) -> None:\n",
    "    with open(input_file, 'r') as r, open(output_file, 'w', newline='') as w:\n",
    "        for line in r:\n",
    "            w.write(f\"{str(fn(line.strip()))}\\n\")\n",
    "\n",
    "transform_lines(add_andy_to_line, \"C:\\\\Users\\\\andre\\\\Documents\\\\Python Learning.txt\", \"D:\\\\Development\\\\pythonworkout\\\\temp\\\\Python Learning Line Lengths.txt\")"
   ]
  }
 ],
 "metadata": {
  "kernelspec": {
   "display_name": "Python 3 (ipykernel)",
   "language": "python",
   "name": "python3"
  },
  "language_info": {
   "codemirror_mode": {
    "name": "ipython",
    "version": 3
   },
   "file_extension": ".py",
   "mimetype": "text/x-python",
   "name": "python",
   "nbconvert_exporter": "python",
   "pygments_lexer": "ipython3",
   "version": "3.13.0"
  }
 },
 "nbformat": 4,
 "nbformat_minor": 5
}
