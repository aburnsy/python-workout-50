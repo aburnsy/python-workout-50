{
 "cells": [
  {
   "cell_type": "code",
   "execution_count": 16,
   "id": "12d841a5-efa4-4da2-ac0a-436b9359abc5",
   "metadata": {},
   "outputs": [
    {
     "data": {
      "text/plain": [
       "(['a', 'v'], 'ac', ('a', 'c'))"
      ]
     },
     "execution_count": 16,
     "metadata": {},
     "output_type": "execute_result"
    }
   ],
   "source": [
    "from collections.abc import Sequence\n",
    "def firstlast(seq: Sequence):\n",
    "    return seq[:1] + seq[-1:]\n",
    "\n",
    "(firstlast([\"a\",\"b\",\"v\"]), firstlast(\"abc\"),firstlast((\"a\",\"b\", \"c\")))"
   ]
  },
  {
   "cell_type": "code",
   "execution_count": 23,
   "id": "12bf94a0-a8dc-464a-9e09-26d1040b50b8",
   "metadata": {},
   "outputs": [
    {
     "data": {
      "text/plain": [
       "[4, 2, 90, 120]"
      ]
     },
     "execution_count": 23,
     "metadata": {},
     "output_type": "execute_result"
    }
   ],
   "source": [
    "\n",
    "def even_odd_sums(s: list[int] | tuple[int,...]) -> list[int]:\n",
    "    return [sum(s[0::2]),sum(s[1::2])]\n",
    "\n",
    "even_odd_sums([1,2,3]) + even_odd_sums((10,20,30,40,50,60))"
   ]
  },
  {
   "cell_type": "code",
   "execution_count": 24,
   "id": "83c462d8-ec7a-4b25-9bc3-892013edcd00",
   "metadata": {},
   "outputs": [
    {
     "data": {
      "text/plain": [
       "50"
      ]
     },
     "execution_count": 24,
     "metadata": {},
     "output_type": "execute_result"
    }
   ],
   "source": [
    "\n",
    "def plus_minus(s: list[int] | tuple[int,...]) -> int:\n",
    "    return s[0] + sum(s[1::2]) - sum(s[2::2])\n",
    "\n",
    "plus_minus([10,20,30,40,50,60])"
   ]
  },
  {
   "cell_type": "code",
   "execution_count": 34,
   "id": "882757d6-220a-4fa2-944e-7eb241e431e6",
   "metadata": {},
   "outputs": [
    {
     "data": {
      "text/plain": [
       "[(10, 'a'), (20, 'b'), (30, 'c')]"
      ]
     },
     "execution_count": 34,
     "metadata": {},
     "output_type": "execute_result"
    }
   ],
   "source": [
    "from collections.abc import Sequence\n",
    "\n",
    "def myzip(*iterables:Sequence) -> list[tuple]:\n",
    "    result = []\n",
    "    for inner_i in range(len(iterables[0])):\n",
    "        result.append(tuple(outer_i[inner_i] for outer_i in iterables))\n",
    "    return result\n",
    "\n",
    "myzip([10,20,30],'abc')\n",
    "\n"
   ]
  },
  {
   "cell_type": "code",
   "execution_count": null,
   "id": "9035eaa4-9e5b-4dee-aa11-41df4c6acd9c",
   "metadata": {},
   "outputs": [],
   "source": []
  }
 ],
 "metadata": {
  "kernelspec": {
   "display_name": "Python 3 (ipykernel)",
   "language": "python",
   "name": "python3"
  },
  "language_info": {
   "codemirror_mode": {
    "name": "ipython",
    "version": 3
   },
   "file_extension": ".py",
   "mimetype": "text/x-python",
   "name": "python",
   "nbconvert_exporter": "python",
   "pygments_lexer": "ipython3",
   "version": "3.13.0"
  }
 },
 "nbformat": 4,
 "nbformat_minor": 5
}
