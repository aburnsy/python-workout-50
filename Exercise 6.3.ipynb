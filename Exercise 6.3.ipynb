{
 "cells": [
  {
   "cell_type": "code",
   "execution_count": 20,
   "id": "23330140-f3c6-47ee-b4b8-0b2e42bd7a41",
   "metadata": {},
   "outputs": [
    {
     "name": "stdout",
     "output_type": "stream",
     "text": [
      "baeda\n",
      "990d0\n"
     ]
    }
   ],
   "source": [
    "from collections.abc import Callable\n",
    "import random\n",
    "\n",
    "def create_password_generator(charpool: str) -> Callable:\n",
    "    def password_generator(no_chars: int) -> str:\n",
    "        return ''.join([random.choice(charpool) for i in range(no_chars)])\n",
    "    return password_generator\n",
    "\n",
    "alpha = create_password_generator('abcdef')\n",
    "print(alpha(5))\n",
    "alpha = create_password_generator('ashduioa980a98dnjas')\n",
    "print(alpha(5))"
   ]
  },
  {
   "cell_type": "code",
   "execution_count": 27,
   "id": "820c9302-8e64-4713-99b6-735c1a68fc5e",
   "metadata": {},
   "outputs": [
    {
     "data": {
      "text/plain": [
       "12"
      ]
     },
     "execution_count": 27,
     "metadata": {},
     "output_type": "execute_result"
    }
   ],
   "source": [
    "from collections.abc import Callable, Sequence\n",
    "\n",
    "def getitem(i: str | int) -> Callable:\n",
    "    def sbn_value(seq: Sequence):\n",
    "        return seq[i]\n",
    "    return sbn_value\n",
    "\n",
    "get_last_item = getitem(-1)\n",
    "get_last_item('qwue09u90jc0a9f')\n",
    "get_last_item([1,2,3,4])\n",
    "\n",
    "get_a_item = getitem('a')\n",
    "get_a_item({'a':12,'b':'14'})\n"
   ]
  },
  {
   "cell_type": "code",
   "execution_count": 28,
   "id": "d352d2a3-e39f-4d57-ba7b-181a7228ad30",
   "metadata": {},
   "outputs": [
    {
     "data": {
      "text/plain": [
       "18"
      ]
     },
     "execution_count": 28,
     "metadata": {},
     "output_type": "execute_result"
    }
   ],
   "source": [
    "from collections.abc import Callable\n",
    "\n",
    "def doboth(f1:Callable, f2: Callable) -> Callable:\n",
    "    def g(x):\n",
    "        return f2(f1(x))\n",
    "    return g\n",
    "\n",
    "len_plus_15 = doboth(len, lambda x:x+15)\n",
    "len_plus_15('123')"
   ]
  },
  {
   "cell_type": "code",
   "execution_count": 40,
   "id": "c9c7e648-ebcb-4012-80b6-112cde38aef5",
   "metadata": {},
   "outputs": [
    {
     "name": "stdout",
     "output_type": "stream",
     "text": [
      "D:\\Development\\pythonworkout\\Exercise 1.3.ipynb:      2627\n",
      "D:\\Development\\pythonworkout\\Exercise 2.3.ipynb:      1178\n",
      "D:\\Development\\pythonworkout\\Exercise 3.3.ipynb:      2289\n",
      "D:\\Development\\pythonworkout\\Exercise 4.3.ipynb:       957\n",
      "D:\\Development\\pythonworkout\\Exercise 5.3.ipynb:      2555\n",
      "D:\\Development\\pythonworkout\\Exercise 6.3.ipynb:      3874\n"
     ]
    }
   ],
   "source": [
    "from collections.abc import Callable\n",
    "import glob\n",
    "import os\n",
    "\n",
    "\n",
    "def with_files(pattern: str) -> Callable:\n",
    "    def f(g: Callable) -> dict:\n",
    "        files = glob.glob(pattern)\n",
    "        return {file: g(file) for file in files}\n",
    "    return f\n",
    "\n",
    "files_get = with_files('D:\\\\Development\\\\pythonworkout\\\\*.3*')\n",
    "for f, s in files_get(os.path.getsize).items():\n",
    "    print(f\"{f}:{s:10}\")"
   ]
  }
 ],
 "metadata": {
  "kernelspec": {
   "display_name": "Python 3 (ipykernel)",
   "language": "python",
   "name": "python3"
  },
  "language_info": {
   "codemirror_mode": {
    "name": "ipython",
    "version": 3
   },
   "file_extension": ".py",
   "mimetype": "text/x-python",
   "name": "python",
   "nbconvert_exporter": "python",
   "pygments_lexer": "ipython3",
   "version": "3.13.0"
  }
 },
 "nbformat": 4,
 "nbformat_minor": 5
}
