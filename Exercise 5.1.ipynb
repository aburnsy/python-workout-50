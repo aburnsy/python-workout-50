{
 "cells": [
  {
   "cell_type": "code",
   "execution_count": 4,
   "id": "4cdb594f-6a5f-419a-b13a-2f8091cc8315",
   "metadata": {},
   "outputs": [
    {
     "data": {
      "text/plain": [
       "'itemgetter returns a callable itemgetter(item) that returns item for the passed in iterator object'"
      ]
     },
     "execution_count": 4,
     "metadata": {},
     "output_type": "execute_result"
    }
   ],
   "source": [
    "# filename = input(\"Enter a filename\")\n",
    "\n",
    "def last_line():\n",
    "    filename = \"C:\\\\Users\\\\andre\\\\Documents\\\\Python Learning.txt\"\n",
    "    with open(filename) as f:\n",
    "        for line in f:\n",
    "            pass\n",
    "            # print(line)\n",
    "        return line\n",
    "\n",
    "last_line()"
   ]
  },
  {
   "cell_type": "code",
   "execution_count": 10,
   "id": "c8c484c1-ca67-47d9-9d4f-2c3454a5b481",
   "metadata": {},
   "outputs": [
    {
     "name": "stdout",
     "output_type": "stream",
     "text": [
      "itemgetter returns a callable itemgetter(item) that returns item for the passed in iterator object\n"
     ]
    }
   ],
   "source": [
    "import os\n",
    "\n",
    "with open('C:\\\\Users\\\\andre\\\\Documents\\\\Python Learning.txt', 'rb') as f:\n",
    "    try:  # catch OSError in case of a one line file \n",
    "        f.seek(-2, os.SEEK_END)\n",
    "        while f.read(1) != b'\\n':\n",
    "            f.seek(-2, os.SEEK_CUR)\n",
    "    except OSError:\n",
    "        f.seek(0)\n",
    "    last_line = f.readline().decode()\n",
    "    print(last_line)"
   ]
  }
 ],
 "metadata": {
  "kernelspec": {
   "display_name": "Python 3 (ipykernel)",
   "language": "python",
   "name": "python3"
  },
  "language_info": {
   "codemirror_mode": {
    "name": "ipython",
    "version": 3
   },
   "file_extension": ".py",
   "mimetype": "text/x-python",
   "name": "python",
   "nbconvert_exporter": "python",
   "pygments_lexer": "ipython3",
   "version": "3.13.0"
  }
 },
 "nbformat": 4,
 "nbformat_minor": 5
}
